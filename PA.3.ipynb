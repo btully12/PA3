{
 "cells": [
  {
   "cell_type": "markdown",
   "id": "2eb7c06f",
   "metadata": {},
   "source": [
    "## Pa3"
   ]
  },
  {
   "cell_type": "code",
   "execution_count": 183,
   "id": "753dbc57",
   "metadata": {},
   "outputs": [
    {
     "name": "stdout",
     "output_type": "stream",
     "text": [
      "Enter the length of side A:  5\n",
      "Enter the length of side B:  5\n",
      "Enter the length of side C:  5\n",
      "The area of the Triangle is approximately: 10.825317547305483 square units\n",
      "The Perimeter of the Triangle is approximately: 15 linear unit\n"
     ]
    }
   ],
   "source": [
    "import math\n",
    "\n",
    "a=int(input(\"Enter the length of side A:  \" )) \n",
    "b=int(input(\"Enter the length of side B:  \" ))\n",
    "c=int(input(\"Enter the length of side C:  \" ))\n",
    "def calcArea(a=1, b=1, c=1):\n",
    "    s= (a+b+c)/2 ##Semi Perimeter for Herons Formula\n",
    "    calcArea= math.sqrt(s*(s-a)*(s-b)*(s-c))\n",
    "    return calcArea\n",
    "print(f\"The area of the Triangle is approximately:\", calcArea(a,b,c), \"square units\")\n",
    "        \n",
    "\n",
    "def calcPerimeter(a=1, b=1, c=1):\n",
    "    calcPerimeter=(a+b+c) \n",
    "    return calcPerimeter\n",
    "print(f\"The Perimeter of the Triangle is approximately:\", calcPerimeter(a,b,c), \"linear unit\")\n",
    "\n",
    "        \n",
    "\n",
    "       \n",
    "    \n",
    "        \n",
    "    \n"
   ]
  },
  {
   "cell_type": "code",
   "execution_count": 184,
   "id": "0c48a9ab",
   "metadata": {},
   "outputs": [
    {
     "name": "stdout",
     "output_type": "stream",
     "text": [
      "Please Guess a number from 1-1000...What is your guess? 500\n",
      "Too high! Try again! You are on attempt # {1}\n",
      "Guess again: 400\n",
      "Too high! Try again! You are on attempt # {2}\n",
      "Guess again: 300\n",
      "Too high! Try again! You are on attempt # {3}\n",
      "Guess again: 200\n",
      "Too low! Try again! You are on attempt # {4}\n",
      "Guess again: 250\n",
      "Too low! Try again! You are on attempt # {5}\n",
      "Guess again: 260\n",
      "Too low! Try again! You are on attempt # {6}\n",
      "Guess again: 270\n",
      "Too low! Try again! You are on attempt # {7}\n",
      "Guess again: 280\n",
      "Too low! Try again! You are on attempt # {8}\n",
      "Guess again: 285\n",
      "Too low! Try again! You are on attempt # {9}\n",
      "Guess again: 290\n",
      "Too low! Try again! You are on attempt # {10}\n",
      "Guess again: 291\n",
      "Too low! Try again! You are on attempt # {11}\n",
      "Guess again: 293\n",
      "Too low! Try again! You are on attempt # {12}\n",
      "Guess again: 295\n",
      "Too high! Try again! You are on attempt # {13}\n",
      "Guess again: 294\n",
      "Correct! Game is now over\n"
     ]
    }
   ],
   "source": [
    "import random \n",
    "random_number = random.randint(1, 1000)\n",
    "\n",
    "def evaluateGuess(): \n",
    "        guess_count=0\n",
    "        user_guess=int(input(\"Please Guess a number from 1-1000...What is your guess? \" ))\n",
    "        guess_count += 1  \n",
    "        if random_number == user_guess: \n",
    "            print(\"Correct! Game is now over\")\n",
    "        while True:\n",
    "            if random_number == user_guess: \n",
    "                print(\"Correct! Game is now over\") \n",
    "                break\n",
    "            elif user_guess < random_number: \n",
    "                    print(f\"Too low! Try again! You are on attempt #\",{guess_count} )\n",
    "                    user_guess=int(input(\"Guess again: \"))\n",
    "                    guess_count += 1\n",
    "            elif user_guess > random_number: \n",
    "                    print(\"Too high! Try again! You are on attempt #\",{guess_count} )\n",
    "                    user_guess=int(input(\"Guess again: \"))\n",
    "                    guess_count += 1\n",
    "            else:\n",
    "                if user_guess > 1000: \n",
    "                    print(\"Your guess is not within the range of the game\")\n",
    "                    user_guess=int(input(\"Guess again: \"))\n",
    "                    guess_count += 1\n",
    "evaluateGuess() \n",
    "\n",
    "    \n",
    "       \n",
    "        \n",
    "    "
   ]
  },
  {
   "cell_type": "markdown",
   "id": "864cac31",
   "metadata": {},
   "source": []
  },
  {
   "cell_type": "code",
   "execution_count": 156,
   "id": "3f2a241a",
   "metadata": {},
   "outputs": [
    {
     "name": "stdout",
     "output_type": "stream",
     "text": [
      "The mean temp for the last 7 days is:  33.714285714285715 Degrees F\n",
      "The mean temp for the last 5 days is:  30.2 Degrees F\n",
      "The mean temp for the last 2 days is:  31.0 Degrees F\n"
     ]
    }
   ],
   "source": [
    "import math\n",
    "\n",
    "\n",
    "def meanTemp(*args): \n",
    "    return sum(args)/len(args)\n",
    "print(\"The mean temp for the last 7 days is: \", meanTemp(30,32,12,45,32,34,51), \"Degrees F\")\n",
    "print(\"The mean temp for the last 5 days is: \", meanTemp(30,32,12,45,32), \"Degrees F\")\n",
    "print(\"The mean temp for the last 2 days is: \", meanTemp(30,32), \"Degrees F\")\n",
    "    \n",
    "\n",
    "    \n",
    "    \n",
    "    "
   ]
  },
  {
   "cell_type": "code",
   "execution_count": null,
   "id": "6556b08f",
   "metadata": {},
   "outputs": [],
   "source": []
  }
 ],
 "metadata": {
  "kernelspec": {
   "display_name": "Python 3",
   "language": "python",
   "name": "python3"
  },
  "language_info": {
   "codemirror_mode": {
    "name": "ipython",
    "version": 3
   },
   "file_extension": ".py",
   "mimetype": "text/x-python",
   "name": "python",
   "nbconvert_exporter": "python",
   "pygments_lexer": "ipython3",
   "version": "3.8.8"
  }
 },
 "nbformat": 4,
 "nbformat_minor": 5
}
